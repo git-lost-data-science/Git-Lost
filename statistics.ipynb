{
 "cells": [
  {
   "cell_type": "code",
   "execution_count": null,
   "id": "1dda078c-7704-42c0-92ea-042cef7d6ae4",
   "metadata": {},
   "outputs": [],
   "source": [
    "import pandas as pd\n",
    "from pprint import pprint\n",
    "\n",
    "def uploading(data):\n",
    "    if file: \n",
    "        try:\n",
    "            file = pd.read_csv(data) # not keeping keep_default_na\n",
    "            file.info()\n",
    "        except Exception as e:\n",
    "            print(\"File not uploaded correctly: {e}\")\n",
    "            \n",
    "data = \"doaj.csv\"\n"
   ]
  },
  {
   "cell_type": "code",
   "execution_count": 14,
   "id": "ed01670f-3497-4759-8f28-f6ce3c91ae2e",
   "metadata": {},
   "outputs": [
    {
     "name": "stdout",
     "output_type": "stream",
     "text": [
      "             Journal title Journal ISSN (print version)  \\\n",
      "count                21307                        12301   \n",
      "unique               21149                        12301   \n",
      "top     Revista de Derecho                    2676-2838   \n",
      "freq                     6                            1   \n",
      "\n",
      "       Journal EISSN (online version)  \\\n",
      "count                           20344   \n",
      "unique                          20343   \n",
      "top                        Portuguese   \n",
      "freq                                2   \n",
      "\n",
      "       Languages in which the journal accepts manuscripts Publisher DOAJ Seal  \\\n",
      "count                                               21307     21306     21307   \n",
      "unique                                               1135      9720         4   \n",
      "top                                               English  Elsevier        No   \n",
      "freq                                                 9899       808     19658   \n",
      "\n",
      "       Journal license    APC  \n",
      "count            21307  21305  \n",
      "unique              45      2  \n",
      "top              CC BY     No  \n",
      "freq              8558  13873  \n"
     ]
    }
   ],
   "source": [
    "pprint(data.describe(include=\"all\"))"
   ]
  },
  {
   "cell_type": "code",
   "execution_count": 15,
   "id": "0d0d09c9",
   "metadata": {},
   "outputs": [
    {
     "data": {
      "text/html": [
       "<div>\n",
       "<style scoped>\n",
       "    .dataframe tbody tr th:only-of-type {\n",
       "        vertical-align: middle;\n",
       "    }\n",
       "\n",
       "    .dataframe tbody tr th {\n",
       "        vertical-align: top;\n",
       "    }\n",
       "\n",
       "    .dataframe thead th {\n",
       "        text-align: right;\n",
       "    }\n",
       "</style>\n",
       "<table border=\"1\" class=\"dataframe\">\n",
       "  <thead>\n",
       "    <tr style=\"text-align: right;\">\n",
       "      <th></th>\n",
       "      <th>Journal title</th>\n",
       "      <th>Journal ISSN (print version)</th>\n",
       "      <th>Journal EISSN (online version)</th>\n",
       "      <th>Languages in which the journal accepts manuscripts</th>\n",
       "      <th>Publisher</th>\n",
       "      <th>DOAJ Seal</th>\n",
       "      <th>Journal license</th>\n",
       "      <th>APC</th>\n",
       "    </tr>\n",
       "  </thead>\n",
       "  <tbody>\n",
       "    <tr>\n",
       "      <th>4287</th>\n",
       "      <td>Revista de Derecho</td>\n",
       "      <td>0121-8697</td>\n",
       "      <td>2145-9355</td>\n",
       "      <td>English</td>\n",
       "      <td>Universidad del Norte</td>\n",
       "      <td>No</td>\n",
       "      <td>CC BY</td>\n",
       "      <td>No</td>\n",
       "    </tr>\n",
       "    <tr>\n",
       "      <th>7155</th>\n",
       "      <td>Revista de Derecho</td>\n",
       "      <td>2313-6944</td>\n",
       "      <td>2707-9651</td>\n",
       "      <td>Spanish</td>\n",
       "      <td>Universidad Nacional del Altiplano de Puno</td>\n",
       "      <td>No</td>\n",
       "      <td>CC BY</td>\n",
       "      <td>No</td>\n",
       "    </tr>\n",
       "    <tr>\n",
       "      <th>9843</th>\n",
       "      <td>Revista de Derecho</td>\n",
       "      <td>1510-3714</td>\n",
       "      <td>2393-6193</td>\n",
       "      <td>Spanish, English, Portuguese</td>\n",
       "      <td>Universidad Católica del Uruguay</td>\n",
       "      <td>No</td>\n",
       "      <td>CC BY</td>\n",
       "      <td>No</td>\n",
       "    </tr>\n",
       "    <tr>\n",
       "      <th>17816</th>\n",
       "      <td>Revista de Derecho</td>\n",
       "      <td>0303-9986</td>\n",
       "      <td>0718-591X</td>\n",
       "      <td>Spanish, English</td>\n",
       "      <td>Universidad de Concepción</td>\n",
       "      <td>No</td>\n",
       "      <td>CC BY</td>\n",
       "      <td>No</td>\n",
       "    </tr>\n",
       "    <tr>\n",
       "      <th>18329</th>\n",
       "      <td>Revista de Derecho</td>\n",
       "      <td>1510-5172</td>\n",
       "      <td>2301-1610</td>\n",
       "      <td>Portuguese, English, Spanish</td>\n",
       "      <td>Universidad de Montevideo</td>\n",
       "      <td>No</td>\n",
       "      <td>CC BY</td>\n",
       "      <td>No</td>\n",
       "    </tr>\n",
       "    <tr>\n",
       "      <th>18435</th>\n",
       "      <td>Revista de Derecho</td>\n",
       "      <td>NaN</td>\n",
       "      <td>2735-6337</td>\n",
       "      <td>Portuguese, Italian, French, English, Spanish</td>\n",
       "      <td>Universidad Catolica de la Santísima Concepción</td>\n",
       "      <td>No</td>\n",
       "      <td>CC BY</td>\n",
       "      <td>No</td>\n",
       "    </tr>\n",
       "  </tbody>\n",
       "</table>\n",
       "</div>"
      ],
      "text/plain": [
       "            Journal title Journal ISSN (print version)  \\\n",
       "4287   Revista de Derecho                    0121-8697   \n",
       "7155   Revista de Derecho                    2313-6944   \n",
       "9843   Revista de Derecho                    1510-3714   \n",
       "17816  Revista de Derecho                    0303-9986   \n",
       "18329  Revista de Derecho                    1510-5172   \n",
       "18435  Revista de Derecho                          NaN   \n",
       "\n",
       "      Journal EISSN (online version)  \\\n",
       "4287                       2145-9355   \n",
       "7155                       2707-9651   \n",
       "9843                       2393-6193   \n",
       "17816                      0718-591X   \n",
       "18329                      2301-1610   \n",
       "18435                      2735-6337   \n",
       "\n",
       "      Languages in which the journal accepts manuscripts  \\\n",
       "4287                                             English   \n",
       "7155                                             Spanish   \n",
       "9843                        Spanish, English, Portuguese   \n",
       "17816                                   Spanish, English   \n",
       "18329                       Portuguese, English, Spanish   \n",
       "18435      Portuguese, Italian, French, English, Spanish   \n",
       "\n",
       "                                             Publisher DOAJ Seal  \\\n",
       "4287                             Universidad del Norte        No   \n",
       "7155        Universidad Nacional del Altiplano de Puno        No   \n",
       "9843                  Universidad Católica del Uruguay        No   \n",
       "17816                        Universidad de Concepción        No   \n",
       "18329                        Universidad de Montevideo        No   \n",
       "18435  Universidad Catolica de la Santísima Concepción        No   \n",
       "\n",
       "      Journal license APC  \n",
       "4287            CC BY  No  \n",
       "7155            CC BY  No  \n",
       "9843            CC BY  No  \n",
       "17816           CC BY  No  \n",
       "18329           CC BY  No  \n",
       "18435           CC BY  No  "
      ]
     },
     "execution_count": 15,
     "metadata": {},
     "output_type": "execute_result"
    }
   ],
   "source": [
    "data.query('`Journal title` == \"Revista de Derecho\"')"
   ]
  },
  {
   "cell_type": "code",
   "execution_count": 21,
   "id": "870a8830",
   "metadata": {},
   "outputs": [
    {
     "data": {
      "text/plain": [
       "array(['No', 'Yaroslav Mudryi National Law University',\n",
       "       'University of Huelva', ..., 'Slovenian Forestry Institute',\n",
       "       'Isländska sällskapet', 'Noyam Journals'],\n",
       "      shape=(9721,), dtype=object)"
      ]
     },
     "execution_count": 21,
     "metadata": {},
     "output_type": "execute_result"
    }
   ],
   "source": [
    "data[\"Publisher\"].unique()"
   ]
  },
  {
   "cell_type": "code",
   "execution_count": 22,
   "id": "1189220e",
   "metadata": {},
   "outputs": [
    {
     "data": {
      "text/plain": [
       "Publisher\n",
       "Elsevier                                                    808\n",
       "Wiley                                                       448\n",
       "MDPI AG                                                     389\n",
       "BMC                                                         302\n",
       "Taylor & Francis Group                                      231\n",
       "                                                           ... \n",
       "Sociedade Brasileira de Enfermagem em Feridas e Estética      1\n",
       "Studijski centar socijalnog rada                              1\n",
       "Prof Thomas Tinnefeld                                         1\n",
       "Formakademisk, Oslo                                           1\n",
       "Advancements in Agricultural Development Inc                  1\n",
       "Name: count, Length: 9720, dtype: int64"
      ]
     },
     "execution_count": 22,
     "metadata": {},
     "output_type": "execute_result"
    }
   ],
   "source": [
    "count = data[\"Publisher\"].value_counts()\n",
    "count"
   ]
  },
  {
   "cell_type": "code",
   "execution_count": null,
   "id": "2e053918",
   "metadata": {},
   "outputs": [],
   "source": [
    "count.plot(kind=\"bar\") # or barh or nothing as input"
   ]
  },
  {
   "cell_type": "code",
   "execution_count": null,
   "id": "9c018f78",
   "metadata": {},
   "outputs": [],
   "source": [
    "# .sort_index(), # .value_counts()"
   ]
  }
 ],
 "metadata": {
  "kernelspec": {
   "display_name": "Python 3",
   "language": "python",
   "name": "python3"
  },
  "language_info": {
   "codemirror_mode": {
    "name": "ipython",
    "version": 3
   },
   "file_extension": ".py",
   "mimetype": "text/x-python",
   "name": "python",
   "nbconvert_exporter": "python",
   "pygments_lexer": "ipython3",
   "version": "3.13.0"
  }
 },
 "nbformat": 4,
 "nbformat_minor": 5
}
